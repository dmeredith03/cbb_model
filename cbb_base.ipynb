{
 "cells": [
  {
   "cell_type": "code",
   "execution_count": 14,
   "metadata": {},
   "outputs": [
    {
     "name": "stderr",
     "output_type": "stream",
     "text": [
      "/var/folders/b9/swzvtq8j1l723xz3fprb149m0000gn/T/ipykernel_15088/2048442513.py:20: FutureWarning: The behavior of DataFrame concatenation with empty or all-NA entries is deprecated. In a future version, this will no longer exclude empty or all-NA columns when determining the result dtypes. To retain the old behavior, exclude the relevant entries before the concat operation.\n",
      "  home_score = pd.concat([home_score, home_score_1, home_score_2]).fillna(int(0))\n",
      "/var/folders/b9/swzvtq8j1l723xz3fprb149m0000gn/T/ipykernel_15088/2048442513.py:21: FutureWarning: The behavior of DataFrame concatenation with empty or all-NA entries is deprecated. In a future version, this will no longer exclude empty or all-NA columns when determining the result dtypes. To retain the old behavior, exclude the relevant entries before the concat operation.\n",
      "  away_score = pd.concat([away_score,away_score_1, away_score_2]).fillna(int(0))\n"
     ]
    },
    {
     "name": "stdout",
     "output_type": "stream",
     "text": [
      "{'team_model': 8.094528198242188, 'team_model2': 8.335238456726074, 'team_model3': 8.088510513305664, 'opp_model': 11.223936080932617, 'opp_model2': 10.854448318481445, 'opp_model3': 10.835431098937988}\n",
      "161/161 [==============================] - 0s 1ms/step\n",
      "161/161 [==============================] - 0s 1ms/step\n",
      "161/161 [==============================] - 0s 1ms/step\n",
      "161/161 [==============================] - 0s 1ms/step\n",
      "161/161 [==============================] - 0s 2ms/step\n",
      "161/161 [==============================] - 0s 2ms/step\n"
     ]
    }
   ],
   "source": [
    "from cbb_functions import *\n",
    "\n",
    "# Get Odds\n",
    "#mgm_df = get_mgm_df('https://sports.co.betmgm.com/en/sports/basketball-7/betting/usa-9/ncaa-264', 2)\n",
    "#Get KP Rankings and Teams list\n",
    "kp_ratings = get_ratings(2024).reset_index(drop=True)\n",
    "teams = kp_ratings[['Team', 'Conf']]\n",
    "\n",
    "#Get Data for DNN\n",
    "\n",
    "games_list_1 = pd.read_csv('~/Desktop/cbb_model/games_list_2022.csv')\n",
    "games_list_2 = pd.read_csv('~/Desktop/cbb_model/games_list_2023.csv')\n",
    "games_list_3 = pd.read_csv('~/Desktop/cbb_model/games_list_2024.csv')\n",
    "home_score_1, away_score_1 = get_features_past(games_list_1,get_ratings(2022))\n",
    "home_score_2, away_score_2 = get_features_past(games_list_2,get_ratings(2023))\n",
    "future_games_home, future_games_away, future_home,future_away, future_dates, future_loc = get_features_future(games_list_3, get_ratings(2024))\n",
    "future_games_home.pop('score')\n",
    "home_score = pd.DataFrame(columns=future_games_home.columns)\n",
    "away_score = pd.DataFrame(columns=future_games_away.columns)\n",
    "home_score = pd.concat([home_score, home_score_1, home_score_2]).fillna(int(0))\n",
    "away_score = pd.concat([away_score,away_score_1, away_score_2]).fillna(int(0))\n",
    "\n",
    "\n",
    "predictions = get_pred(home_score, away_score, future_games_home, future_home, future_away, future_dates, future_loc)\n",
    "predictions['Date'] = pd.to_datetime(predictions['Date'], format='%Y-%m-%d')\n",
    "\n",
    "\n",
    "predictions = predictions.sort_values(by='Date').reset_index(drop=True)\n",
    "predictions['Date'] = predictions['Date'].dt.date\n",
    "\n",
    "#Find todays spreads\n",
    "d1 = date(2023, 11, 6)\n",
    "d2 = date(2023, 11, 6)\n",
    "week_predictions = predictions[(d1 <= predictions['Date']) & (predictions['Date'] <= d2)]\n",
    "\n",
    "# Commented until mgm puts up odds\n",
    "# week_games = fuzzy_merge(mgm_df, week_predictions, 80)\n",
    "# week_games['spread_diff'] = abs(week_games['Spread'] - week_games['spread'])\n",
    "# week_games['ou_diff'] = abs(week_games['OU'] - week_games['ou'])\n",
    "\n",
    "#Get Injured_Players\n",
    "# player_table = pd.read_csv('/Users/dmeredith/Desktop/player_table.csv')\n",
    "# player_table = player_table.iloc[: , 1:]\n",
    "# injured_players = get_injured_players(player_table)\n",
    "# ipr = get_injured_team_report(injured_players, teams)\n",
    "# ipr_home = ipr.copy()\n",
    "# ipr_away = ipr.copy()\n",
    "# ipr_home.columns = ['Team', 'HInj', 'HValInj']\n",
    "# ipr_away.columns = ['Opponent', 'AInj', 'AValInj']\n",
    "# week_games = week_games.merge(ipr_home, on='Team')\n",
    "# week_games = week_games.merge(ipr_away, on='Opponent')\n",
    "# best_spreads = week_games.sort_values(by='spread_diff', ascending=False)\n",
    "# best_ous = week_games.sort_values(by='ou_diff', ascending=False)\n",
    "\n",
    "\n",
    "# records = get_records(predictions)\n",
    "# bigten = records[records['Conf'] == 'B10'].sort_values(by='Conf Wins',ascending=False).reset_index(drop=True)\n",
    "# bigtwelve = records[records['Conf'] == 'B12'].sort_values(by='Conf Wins',ascending=False).reset_index(drop=True)\n",
    "# sec = records[records['Conf'] == 'SEC'].sort_values(by='Conf Wins',ascending=False).reset_index(drop=True)\n",
    "# acc = records[records['Conf'] == 'ACC'].sort_values(by='Conf Wins',ascending=False).reset_index(drop=True)\n",
    "# pactwelve = records[records['Conf'] == 'P12'].sort_values(by='Conf Wins',ascending=False).reset_index(drop=True)\n",
    "# bigeast = records[records['Conf'] == 'BE'].sort_values(by='Conf Wins',ascending=False).reset_index(drop=True)"
   ]
  }
 ],
 "metadata": {
  "kernelspec": {
   "display_name": "Python 3",
   "language": "python",
   "name": "python3"
  },
  "language_info": {
   "codemirror_mode": {
    "name": "ipython",
    "version": 3
   },
   "file_extension": ".py",
   "mimetype": "text/x-python",
   "name": "python",
   "nbconvert_exporter": "python",
   "pygments_lexer": "ipython3",
   "version": "3.10.4"
  }
 },
 "nbformat": 4,
 "nbformat_minor": 2
}
